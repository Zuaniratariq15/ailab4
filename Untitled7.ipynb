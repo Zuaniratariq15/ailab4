{
 "cells": [
  {
   "cell_type": "code",
   "execution_count": 5,
   "id": "f5d8701b-e386-4fad-a2e1-61b19522df36",
   "metadata": {},
   "outputs": [
    {
     "name": "stdout",
     "output_type": "stream",
     "text": [
      "Prediction: [2 2 2]\n",
      "Confusion Matrix:\n",
      "[[0 1]\n",
      " [0 2]]\n",
      "Accuracy: 0.6666666666666666\n"
     ]
    }
   ],
   "source": [
    "from sklearn import preprocessing\n",
    "from sklearn.naive_bayes import GaussianNB\n",
    "from sklearn.metrics import confusion_matrix, accuracy_score\n",
    "\n",
    "age= ['youth','youth' , 'mid_age' , 'senior' , 'senior' , 'senior' ,'mid_age' , 'youth' , 'youth' , 'senior' ,'youth' , 'mid_age' , 'mid_age' , 'senior' ]\n",
    "income = ['high', 'high', 'high', 'med', 'low', 'low', 'low', 'med', 'low', 'med', 'med', 'med', 'high', 'med']\n",
    "student = ['no', 'no', 'no', 'no', 'yes', 'yes', 'yes', 'no', 'yes', 'yes', 'yes', 'no', 'yes', 'no' ]\n",
    "credit_rating= ['fair' ,'excellent', 'fair' ,'fair', 'fair', 'excellent' ,'excellent', 'fair' ,'fair' ,'fair', 'excellent' ,'excellent', 'fair', 'excellent']\n",
    "buys_computer=['no' ,'no' ,'yes', 'yes' ,'yes', 'no' ,'yes' ,'no', 'yes' , 'yes' ,'yes', 'yes', 'yes' ,'no']\n",
    "\n",
    "le = preprocessing.LabelEncoder()\n",
    "# Converting string into numbers.\n",
    "age_encoded=le.fit_transform(age)\n",
    "income_encoded=le.fit_transform(income)\n",
    "student_encoded=le.fit_transform(student)\n",
    "credit_rating_encoded=le.fit_transform(credit_rating)\n",
    "\n",
    "features=list(zip(age_encoded, temperau_encoded))\n",
    "from sklearn.model_selection import train_test_split\n",
    "features_train, features_test,label_train,label_test=train_test_split(features, play_encoded, test_size=0.2, random_state=42)\n",
    "\n",
    "model = GaussianNB()\n",
    "model.fit(features_train, label_train)\n",
    "predicted = model.predict(features_test)\n",
    "print(\"Prediction:\", predicted)\n",
    "conf_mat = confusion_matrix(label_test, predicted)\n",
    "print(\"Confusion Matrix:\")\n",
    "print(conf_mat)\n",
    "accuracy = accuracy_score(label_test, predicted)\n",
    "print(\"Accuracy:\", accuracy)\n",
    "\n"
   ]
  },
  {
   "cell_type": "code",
   "execution_count": null,
   "id": "09b726bd-b25c-4b51-bae7-dcb5ff0544e2",
   "metadata": {},
   "outputs": [],
   "source": []
  },
  {
   "cell_type": "code",
   "execution_count": null,
   "id": "7ab8c776-4ba6-4e75-89d6-a6b9d675b918",
   "metadata": {},
   "outputs": [],
   "source": []
  }
 ],
 "metadata": {
  "kernelspec": {
   "display_name": "Python 3 (ipykernel)",
   "language": "python",
   "name": "python3"
  },
  "language_info": {
   "codemirror_mode": {
    "name": "ipython",
    "version": 3
   },
   "file_extension": ".py",
   "mimetype": "text/x-python",
   "name": "python",
   "nbconvert_exporter": "python",
   "pygments_lexer": "ipython3",
   "version": "3.12.7"
  }
 },
 "nbformat": 4,
 "nbformat_minor": 5
}
